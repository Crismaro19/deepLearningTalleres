{
 "cells": [
  {
   "cell_type": "markdown",
   "metadata": {
    "id": "z7U8lp55qfdA"
   },
   "source": [
    "## Redes Convolucionales para reconocimiento de imágenes\n",
    "\n",
    "## Actividad calificada por el personal\n",
    "\n",
    "### Propósito \n",
    "\n",
    "En el laboratorio \"Implementación de Redes Convolucionales en Keras\" se propuso una implementación a través de *\"Keras\"* de una red convolucional para una base de datos que contiene imágenes de dígitos manuscritos. En este *notebook* se pretende evaluar el uso de *keras* al aplicar una red convolucional sobre un conjunto de imágenes más complejo, \"Fashion MNIST\". \n",
    "\n",
    "### Instrucciones generales\n",
    "\n",
    "1. Los procedimientos en el notebook deberán responderse en los espacios especificados para tal fin, debajo de cada uno de los puntos.\n",
    "\n",
    "2. Para que la actividad sea calificada, deberán subir únicamente este mismo archivo con la extensión \".ipynb\" a la actividad de \"entrega calificada por el personal\" correspondiente a este caso.\n",
    "\n",
    "### Criterios a evaluar\n",
    "\n",
    "Los criterios que se evaluarán son:\n",
    "\n",
    "Preparación de las variables: Se adaptan los datos apropiadamente para el uso de las funciones de `keras` y realiza la partición de la muestra en entrenamiento, validación y test. [15 puntos]\n",
    "\n",
    "Estimación de un modelo utilizando redes neuronales convolucionales: Se estima el modelo usando una CNN, se establecen los parámetros y estructuras apropiadamente, se evalúa en la muestra de test y se analizan correctamente los resultados y el procedimiento realizado. [45 puntos]\n",
    "\n",
    "Calidad de la predicción: La arquitectura implementada posee un buen desempeño entre el nivel de precisión obtenido y el tiempo de ejecución. **Nota: Se considera un nivel de precisión del 91% como buen desempeño para este laboratorio**. Asegúrese de no implementar una red excesivamente profunda probándola en los servidores que ofrece la plataforma Coursera, pues con estos realizamos la calificaciónde su solución. [40 puntos]\n",
    "\n",
    "\n",
    "#### Problema\n",
    "\n",
    "Fashion-MNIST es una base de datos de imágenes de artículos de la tienda de ropa Zalando, que consta de un set de entrenamiento de 60000 muestras y un set de test de 10000 muestras. Cada dato es una imagen en escala de grises de una prenda de vestir, asociada con una etiqueta de 10 clases.\n",
    "\n",
    "Ustedes deben proponer el algoritmo para hacer la clasificación de las prendas con una red neuronal convolucional."
   ]
  },
  {
   "cell_type": "markdown",
   "metadata": {
    "id": "yQUTyauSqfdD"
   },
   "source": [
    "### Librerías a importar"
   ]
  },
  {
   "cell_type": "code",
   "execution_count": 1,
   "metadata": {
    "id": "b7FZBYtzqfdE",
    "tags": []
   },
   "outputs": [],
   "source": [
    "import numpy as np\n",
    "import matplotlib.pyplot as plt\n",
    "#Las siguientes dos líneas evitan la generación de \"warnings\" y \"flags\" al importar keras y tensorflow.\n",
    "#Dichas advertencias no comprometen el funcionamiento del código.\n",
    "import os\n",
    "os.environ['TF_CPP_MIN_LOG_LEVEL'] = '3' \n",
    "#Importación de keras\n",
    "import keras\n",
    "\n",
    "from sklearn.model_selection import train_test_split\n",
    "\n",
    "from tensorflow.keras.datasets import fashion_mnist\n",
    "\n",
    "from tensorflow.keras.models import Sequential\n",
    "from tensorflow.keras.layers import Conv2D, MaxPooling2D, Flatten, Dense, Dropout"
   ]
  },
  {
   "cell_type": "markdown",
   "metadata": {
    "id": "p6PQCLuOqfdF"
   },
   "source": [
    "### 1. Preparación de las variables (15 puntos)\n",
    "\n",
    "Adapte los datos apropiadamente para el uso de las funciones de `keras` y realiza la partición de la muestra en entrenamiento, validación y test."
   ]
  },
  {
   "cell_type": "code",
   "execution_count": 2,
   "metadata": {
    "id": "kCbBgdbcqfdF"
   },
   "outputs": [
    {
     "data": {
      "text/plain": [
       "((48000, 28, 28, 1), (10000, 28, 28, 1))"
      ]
     },
     "execution_count": 2,
     "metadata": {},
     "output_type": "execute_result"
    }
   ],
   "source": [
    "# Utilicen este espacio para escribir los códigos del procedimiento del punto 1 ####\n",
    "# Cargar datos\n",
    "(X_train_full, y_train_full), (X_test, y_test) = fashion_mnist.load_data()\n",
    "\n",
    "# Normalización (0-1)\n",
    "X_train_full = X_train_full.astype(\"float32\") / 255.0\n",
    "X_test = X_test.astype(\"float32\") / 255.0\n",
    "\n",
    "# División entrenamiento/validación (80/20)\n",
    "X_train, X_val, y_train, y_val = train_test_split(X_train_full, y_train_full, test_size=0.2, random_state=42)\n",
    "\n",
    "# Ajustamos las dimensiones de los datos para que puedan ser trabajadas por las funciones de keras.\n",
    "image_rows = X_train.shape[1]\n",
    "image_cols = X_train.shape[2]\n",
    "X_train = X_train.reshape(-1,image_rows,image_cols, 1)\n",
    "X_test = X_test.reshape(-1,image_rows,image_cols, 1)\n",
    "X_train.shape, X_test.shape"
   ]
  },
  {
   "cell_type": "code",
   "execution_count": 3,
   "metadata": {},
   "outputs": [
    {
     "name": "stdout",
     "output_type": "stream",
     "text": [
      "Número total de clases:  10 \n",
      "\n",
      "Clases/labels:  [0 1 2 3 4 5 6 7 8 9]  \n",
      "\n",
      "Label \tDescription \n",
      "0 \tT-shirt/top \n",
      "1 \tTrouser \n",
      "2 \tPullover \n",
      "3 \tDress \n",
      "4 \tCoat \n",
      "5 \tSandal \n",
      "6 \tShirt \n",
      "7 \tSneaker \n",
      "8 \tBag \n",
      "9 \tAnkle boo\n"
     ]
    }
   ],
   "source": [
    "classes = np.unique(y_train)\n",
    "nClasses = len(classes)\n",
    "print('Número total de clases: ', nClasses, \"\\n\")\n",
    "print('Clases/labels: ', classes, \" \\n\")\n",
    "\n",
    "print(\"Label \tDescription \\n\"+\n",
    "\"0 \tT-shirt/top \\n\"+\n",
    "\"1 \tTrouser \\n\"+\n",
    "\"2 \tPullover \\n\"+\n",
    "\"3 \tDress \\n\"+\n",
    "\"4 \tCoat \\n\"+\n",
    "\"5 \tSandal \\n\"+\n",
    "\"6 \tShirt \\n\"+\n",
    "\"7 \tSneaker \\n\"+\n",
    "\"8 \tBag \\n\"+\n",
    "\"9 \tAnkle boo\")"
   ]
  },
  {
   "cell_type": "code",
   "execution_count": 4,
   "metadata": {},
   "outputs": [
    {
     "data": {
      "text/plain": [
       "Text(0.5, 1.0, 'Label : 7')"
      ]
     },
     "execution_count": 4,
     "metadata": {},
     "output_type": "execute_result"
    },
    {
     "data": {
      "image/png": "[encoded data removed]",
      "text/plain": [
       "<Figure size 500x500 with 1 Axes>"
      ]
     },
     "metadata": {},
     "output_type": "display_data"
    }
   ],
   "source": [
    "plt.figure(figsize=[5,5])\n",
    "# Visualiza la primera imagen en la base de training\n",
    "plt.subplot(121)\n",
    "plt.imshow(X_train[0,:,:], cmap='gray')\n",
    "plt.title(\"Label : {}\".format(y_train[0]))"
   ]
  },
  {
   "cell_type": "markdown",
   "metadata": {
    "id": "vGBvlfJ4qfdF"
   },
   "source": [
    "Se realiza la importacion del data set atraves de la libreria de keras, este data set se compone de 2 listas con dos elementos los cuales contienen los set de train y test ya separados por variables predictoras y objetivo.\n",
    "\n",
    "se realiza la normalizacion de los set's para que los valores queden entre 0-1.\n",
    "se realiza el split de el set train para validacion y entrenamiento.\n",
    "se realiza el ajuste de los set's para funcionar con las funciones de keras.\n",
    "\n",
    "Ademas se implementa un visulizacion de las clases objetivo y se muestra una de las imagenes del set de train.\n",
    "\n",
    "Se evidencian 10 posibles clases para las imagenes del set las cuales se normalizan y ajustan para facilitar el procesamiento de estas para el modelo."
   ]
  },
  {
   "cell_type": "markdown",
   "metadata": {
    "id": "iV0E9KxbqfdG"
   },
   "source": [
    "### 2. Estimación de un modelo utilizando redes neuronales convolucionales (45 puntos)\n",
    "\n",
    "Estimen un modelo predictivo usando la muestra de entrenamiento y establezcan apropiadamente cada uno de los parámetros de la red."
   ]
  },
  {
   "cell_type": "code",
   "execution_count": 5,
   "metadata": {
    "id": "817ER4dgqfdG"
   },
   "outputs": [
    {
     "name": "stdout",
     "output_type": "stream",
     "text": [
      "Epoch 1/10\n",
      "750/750 [==============================] - 52s 68ms/step - loss: 0.6227 - accuracy: 0.7741 - val_loss: 0.3720 - val_accuracy: 0.8627\n",
      "Epoch 2/10\n",
      "750/750 [==============================] - 50s 66ms/step - loss: 0.3998 - accuracy: 0.8536 - val_loss: 0.3188 - val_accuracy: 0.8808\n",
      "Epoch 3/10\n",
      "750/750 [==============================] - 49s 66ms/step - loss: 0.3438 - accuracy: 0.8759 - val_loss: 0.2931 - val_accuracy: 0.8885\n",
      "Epoch 4/10\n",
      "750/750 [==============================] - 49s 65ms/step - loss: 0.3045 - accuracy: 0.8914 - val_loss: 0.2691 - val_accuracy: 0.8967\n",
      "Epoch 5/10\n",
      "750/750 [==============================] - 49s 66ms/step - loss: 0.2816 - accuracy: 0.8975 - val_loss: 0.2561 - val_accuracy: 0.9041\n",
      "Epoch 6/10\n",
      "750/750 [==============================] - 49s 66ms/step - loss: 0.2631 - accuracy: 0.9045 - val_loss: 0.2397 - val_accuracy: 0.9091\n",
      "Epoch 7/10\n",
      "750/750 [==============================] - 49s 65ms/step - loss: 0.2428 - accuracy: 0.9110 - val_loss: 0.2327 - val_accuracy: 0.9143\n",
      "Epoch 8/10\n",
      "750/750 [==============================] - 49s 66ms/step - loss: 0.2324 - accuracy: 0.9138 - val_loss: 0.2249 - val_accuracy: 0.9150\n",
      "Epoch 9/10\n",
      "750/750 [==============================] - 49s 65ms/step - loss: 0.2172 - accuracy: 0.9197 - val_loss: 0.2303 - val_accuracy: 0.9158\n",
      "Epoch 10/10\n",
      "750/750 [==============================] - 49s 65ms/step - loss: 0.2071 - accuracy: 0.9234 - val_loss: 0.2302 - val_accuracy: 0.9163\n"
     ]
    }
   ],
   "source": [
    "#### Utilicen este espacio para escribir los códigos del procedimiento del punto 2 ####\n",
    "\n",
    "# Definicion de modelo\n",
    "model = Sequential()\n",
    "model.add(Conv2D(32, kernel_size=(3, 3), activation='relu', input_shape=(image_rows,image_cols,1), padding='same'))\n",
    "model.add(MaxPooling2D(pool_size=(2,2)))\n",
    "model.add(Conv2D(64, (3,3), activation='relu'))\n",
    "model.add(MaxPooling2D(pool_size=(2,2)))\n",
    "model.add(Flatten())\n",
    "model.add(Dense(128, activation='relu'))\n",
    "model.add(Dropout(0.5))\n",
    "model.add(Dense(64, activation='relu'))               \n",
    "model.add(Dense(nClasses, activation='softmax'))\n",
    "\n",
    "# Compilacion del modelo - 0.9150\n",
    "model.compile(optimizer='adam', loss='sparse_categorical_crossentropy', metrics=['accuracy'])\n",
    "\n",
    "# Entrenamiento del modelo\n",
    "history = model.fit(X_train, y_train, validation_data=(X_val, y_val), epochs=10, batch_size=64, verbose=1)"
   ]
  },
  {
   "cell_type": "markdown",
   "metadata": {
    "id": "qMsXnV_tqfdG"
   },
   "source": [
    "Se establece un modelo de red neuronal convolucional la cual consta de 2 capas convolucionales de 32 y 64 filtros 3x3 confuncion de activacion relu. ademas de 2 capas de MaxPooling las cuales ayudan a extraer las caracteristicas mas relevantes y reduce el costo computacional al hacer una reduccion de tamaño. Se implementan 3 capas ocultas de procesamiento dense, una capa dropOut y una capa flatten.\n",
    "\n",
    "la funcion de perdida es sparse_categorical_crossentropy la cual nos permite tener los labels numericos sin transformalos en arrays binarios, optimizador adam el cual es util para modelos donde vamos a estar tuneando mucho los hiperparametros y metica accuracy ya que es nuestro objetivo a maximizar.\n",
    "\n",
    "se entrenara en 10 epocas con un bath de 64.\n",
    "\n",
    "el modelo se entrena en las 10 epocas llegando a una funcion de perdida de 0.2071 y un accuracy en entramiento  de 92.34%\n"
   ]
  },
  {
   "cell_type": "markdown",
   "metadata": {
    "id": "cVAgMpGNqfdH"
   },
   "source": [
    "### 3. Calidad de la predicción (40 puntos)\n",
    "\n",
    "Evalúe el desempeño de su algoritmo con el set de _test_ y argumente sobre el nivel de precisión obtenido, tiempo de ejecución y la arquitectura de su red convolucional."
   ]
  },
  {
   "cell_type": "code",
   "execution_count": 6,
   "metadata": {
    "id": "Hs2D9Gb4qfdH"
   },
   "outputs": [
    {
     "name": "stdout",
     "output_type": "stream",
     "text": [
      "Precisión en test: 0.9136\n"
     ]
    }
   ],
   "source": [
    "#### Utilicen este espacio para escribir los códigos del procedimiento del punto 3 ####\n",
    "test_loss, test_acc = model.evaluate(X_test, y_test, verbose=0)\n",
    "print(f\"Precisión en test: {test_acc:.4f}\")"
   ]
  },
  {
   "cell_type": "code",
   "execution_count": 7,
   "metadata": {},
   "outputs": [
    {
     "data": {
      "image/png": "[encoded data removed]",
      "text/plain": [
       "<Figure size 640x480 with 1 Axes>"
      ]
     },
     "metadata": {},
     "output_type": "display_data"
    }
   ],
   "source": [
    "plt.plot(history.history['accuracy'], label='Entrenamiento')\n",
    "plt.plot(history.history['val_accuracy'], label='Validación')\n",
    "plt.title('Precisión durante el entrenamiento')\n",
    "plt.xlabel('Época')\n",
    "plt.ylabel('Precisión')\n",
    "plt.legend()\n",
    "plt.show()"
   ]
  },
  {
   "cell_type": "markdown",
   "metadata": {
    "id": "15MukKo4qfdH"
   },
   "source": [
    "El modelo presenta una precision de 91.36% en la evaluacion de desempeño la cual se realiza con el set de prueba separado por el data set directamente.\n",
    "\n",
    "El tiempo de ejecucion del modelo es relativamente de rapido debido a que no es una red muy profunda ya que la cantidad de capas es adecuada a la complejidad del data set y se utiliza una cantidad moderada de neuronas por capa.\n",
    "\n",
    "el modelo esta montado primero con las capas convolucionales y de extraccion de rasgos las cuales toman la informacion y extraen los parametros principales. luego tenemos las capas de adaptacion y de procesamiento acompañadas de una seccion de drop out lo cual permite que no se memorizen los datos y genere sobre entrenamiento.\n",
    "\n",
    "el modelo es simple y adecuado al set de datos para ejecutar en un tiempo reducido y genere la precision solicitada por el problema."
   ]
  }
 ],
 "metadata": {
  "colab": {
   "provenance": []
  },
  "kernelspec": {
   "display_name": "Python 3 (ipykernel)",
   "language": "python",
   "name": "python3"
  },
  "language_info": {
   "codemirror_mode": {
    "name": "ipython",
    "version": 3
   },
   "file_extension": ".py",
   "mimetype": "text/x-python",
   "name": "python",
   "nbconvert_exporter": "python",
   "pygments_lexer": "ipython3",
   "version": "3.10.10"
  }
 },
 "nbformat": 4,
 "nbformat_minor": 4
}
